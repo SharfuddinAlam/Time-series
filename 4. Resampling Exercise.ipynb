{
 "cells": [
  {
   "cell_type": "code",
   "execution_count": 1,
   "metadata": {
    "collapsed": true
   },
   "outputs": [],
   "source": [
    "import pandas as pd\n",
    "import numpy as np"
   ]
  },
  {
   "cell_type": "code",
   "execution_count": 19,
   "metadata": {
    "collapsed": false
   },
   "outputs": [],
   "source": [
    "rng = pd.date_range('1/1/2011', periods=72, freq='H')\n",
    "ts = pd.Series(list(range(len(rng))), index=rng)"
   ]
  },
  {
   "cell_type": "code",
   "execution_count": 3,
   "metadata": {
    "collapsed": false
   },
   "outputs": [
    {
     "data": {
      "text/plain": [
       "2011-01-01 00:00:00   -0.378349\n",
       "2011-01-01 01:00:00   -0.942056\n",
       "2011-01-01 02:00:00    0.010226\n",
       "2011-01-01 03:00:00   -0.209122\n",
       "2011-01-01 04:00:00    2.144546\n",
       "Freq: H, dtype: float64"
      ]
     },
     "execution_count": 3,
     "metadata": {},
     "output_type": "execute_result"
    }
   ],
   "source": [
    "ts.head()"
   ]
  },
  {
   "cell_type": "code",
   "execution_count": 20,
   "metadata": {
    "collapsed": false
   },
   "outputs": [
    {
     "data": {
      "text/plain": [
       "(72,)"
      ]
     },
     "execution_count": 20,
     "metadata": {},
     "output_type": "execute_result"
    }
   ],
   "source": [
    "ts.shape\n"
   ]
  },
  {
   "cell_type": "code",
   "execution_count": 8,
   "metadata": {
    "collapsed": false
   },
   "outputs": [
    {
     "data": {
      "text/plain": [
       "2011-01-01 00:00:00   -0.378349\n",
       "2011-01-01 00:45:00         NaN\n",
       "2011-01-01 01:30:00         NaN\n",
       "2011-01-01 02:15:00         NaN\n",
       "2011-01-01 03:00:00   -0.209122\n",
       "2011-01-01 03:45:00         NaN\n",
       "2011-01-01 04:30:00         NaN\n",
       "2011-01-01 05:15:00         NaN\n",
       "2011-01-01 06:00:00   -1.183390\n",
       "2011-01-01 06:45:00         NaN\n",
       "2011-01-01 07:30:00         NaN\n",
       "2011-01-01 08:15:00         NaN\n",
       "2011-01-01 09:00:00    1.806145\n",
       "2011-01-01 09:45:00         NaN\n",
       "2011-01-01 10:30:00         NaN\n",
       "2011-01-01 11:15:00         NaN\n",
       "2011-01-01 12:00:00    0.351837\n",
       "2011-01-01 12:45:00         NaN\n",
       "2011-01-01 13:30:00         NaN\n",
       "2011-01-01 14:15:00         NaN\n",
       "2011-01-01 15:00:00    2.785822\n",
       "2011-01-01 15:45:00         NaN\n",
       "2011-01-01 16:30:00         NaN\n",
       "2011-01-01 17:15:00         NaN\n",
       "2011-01-01 18:00:00   -0.396037\n",
       "2011-01-01 18:45:00         NaN\n",
       "2011-01-01 19:30:00         NaN\n",
       "2011-01-01 20:15:00         NaN\n",
       "2011-01-01 21:00:00    1.229402\n",
       "2011-01-01 21:45:00         NaN\n",
       "                         ...   \n",
       "2011-01-03 00:45:00         NaN\n",
       "2011-01-03 01:30:00         NaN\n",
       "2011-01-03 02:15:00         NaN\n",
       "2011-01-03 03:00:00    0.306706\n",
       "2011-01-03 03:45:00         NaN\n",
       "2011-01-03 04:30:00         NaN\n",
       "2011-01-03 05:15:00         NaN\n",
       "2011-01-03 06:00:00   -0.499522\n",
       "2011-01-03 06:45:00         NaN\n",
       "2011-01-03 07:30:00         NaN\n",
       "2011-01-03 08:15:00         NaN\n",
       "2011-01-03 09:00:00    0.229052\n",
       "2011-01-03 09:45:00         NaN\n",
       "2011-01-03 10:30:00         NaN\n",
       "2011-01-03 11:15:00         NaN\n",
       "2011-01-03 12:00:00   -0.748998\n",
       "2011-01-03 12:45:00         NaN\n",
       "2011-01-03 13:30:00         NaN\n",
       "2011-01-03 14:15:00         NaN\n",
       "2011-01-03 15:00:00    2.275974\n",
       "2011-01-03 15:45:00         NaN\n",
       "2011-01-03 16:30:00         NaN\n",
       "2011-01-03 17:15:00         NaN\n",
       "2011-01-03 18:00:00    0.282585\n",
       "2011-01-03 18:45:00         NaN\n",
       "2011-01-03 19:30:00         NaN\n",
       "2011-01-03 20:15:00         NaN\n",
       "2011-01-03 21:00:00   -2.174329\n",
       "2011-01-03 21:45:00         NaN\n",
       "2011-01-03 22:30:00         NaN\n",
       "Freq: 45T, dtype: float64"
      ]
     },
     "execution_count": 8,
     "metadata": {},
     "output_type": "execute_result"
    }
   ],
   "source": [
    "ts.asfreq('45Min')"
   ]
  },
  {
   "cell_type": "code",
   "execution_count": 22,
   "metadata": {
    "collapsed": false
   },
   "outputs": [
    {
     "data": {
      "text/plain": [
       "2011-01-01 00:45:00    0\n",
       "2011-01-01 01:30:00    1\n",
       "2011-01-01 02:15:00    2\n",
       "2011-01-01 03:00:00    3\n",
       "2011-01-01 03:45:00    3\n",
       "2011-01-01 04:30:00    4\n",
       "2011-01-01 05:15:00    5\n",
       "2011-01-01 06:00:00    6\n",
       "2011-01-01 06:45:00    6\n",
       "Freq: 45T, dtype: int64"
      ]
     },
     "execution_count": 22,
     "metadata": {},
     "output_type": "execute_result"
    }
   ],
   "source": [
    "converted = ts.asfreq('45Min', method='ffill')\n",
    "converted[1:10]"
   ]
  },
  {
   "cell_type": "code",
   "execution_count": 23,
   "metadata": {
    "collapsed": false
   },
   "outputs": [
    {
     "data": {
      "text/plain": [
       "2011-01-01 00:00:00     0\n",
       "2011-01-01 03:00:00     3\n",
       "2011-01-01 06:00:00     6\n",
       "2011-01-01 09:00:00     9\n",
       "2011-01-01 12:00:00    12\n",
       "2011-01-01 15:00:00    15\n",
       "2011-01-01 18:00:00    18\n",
       "2011-01-01 21:00:00    21\n",
       "2011-01-02 00:00:00    24\n",
       "2011-01-02 03:00:00    27\n",
       "2011-01-02 06:00:00    30\n",
       "2011-01-02 09:00:00    33\n",
       "2011-01-02 12:00:00    36\n",
       "2011-01-02 15:00:00    39\n",
       "2011-01-02 18:00:00    42\n",
       "2011-01-02 21:00:00    45\n",
       "2011-01-03 00:00:00    48\n",
       "2011-01-03 03:00:00    51\n",
       "2011-01-03 06:00:00    54\n",
       "2011-01-03 09:00:00    57\n",
       "2011-01-03 12:00:00    60\n",
       "2011-01-03 15:00:00    63\n",
       "2011-01-03 18:00:00    66\n",
       "2011-01-03 21:00:00    69\n",
       "Freq: 3H, dtype: int64"
      ]
     },
     "execution_count": 23,
     "metadata": {},
     "output_type": "execute_result"
    }
   ],
   "source": [
    "ts.asfreq('3H')"
   ]
  },
  {
   "cell_type": "code",
   "execution_count": 24,
   "metadata": {
    "collapsed": false
   },
   "outputs": [
    {
     "data": {
      "text/plain": [
       "(95,)"
      ]
     },
     "execution_count": 24,
     "metadata": {},
     "output_type": "execute_result"
    }
   ],
   "source": [
    "converted.shape"
   ]
  },
  {
   "cell_type": "code",
   "execution_count": 25,
   "metadata": {
    "collapsed": true
   },
   "outputs": [],
   "source": [
    "converted = ts.asfreq('45Min', method='pad')"
   ]
  },
  {
   "cell_type": "code",
   "execution_count": null,
   "metadata": {
    "collapsed": true
   },
   "outputs": [],
   "source": [
    "# Does asfreq change the # of rows? -Yes"
   ]
  },
  {
   "cell_type": "code",
   "execution_count": null,
   "metadata": {
    "collapsed": false
   },
   "outputs": [],
   "source": [
    "# What do the different methods do?\n",
    "# method : {‘backfill’, ‘bfill’, ‘pad’, ‘ffill’, None}"
   ]
  },
  {
   "cell_type": "code",
   "execution_count": 26,
   "metadata": {
    "collapsed": false
   },
   "outputs": [
    {
     "data": {
      "text/plain": [
       "2011-01-01 00:00:00     0.0\n",
       "2011-01-01 00:45:00     NaN\n",
       "2011-01-01 01:30:00     NaN\n",
       "2011-01-01 02:15:00     NaN\n",
       "2011-01-01 03:00:00     3.0\n",
       "2011-01-01 03:45:00     NaN\n",
       "2011-01-01 04:30:00     NaN\n",
       "2011-01-01 05:15:00     NaN\n",
       "2011-01-01 06:00:00     6.0\n",
       "2011-01-01 06:45:00     NaN\n",
       "2011-01-01 07:30:00     NaN\n",
       "2011-01-01 08:15:00     NaN\n",
       "2011-01-01 09:00:00     9.0\n",
       "2011-01-01 09:45:00     NaN\n",
       "2011-01-01 10:30:00     NaN\n",
       "2011-01-01 11:15:00     NaN\n",
       "2011-01-01 12:00:00    12.0\n",
       "2011-01-01 12:45:00     NaN\n",
       "2011-01-01 13:30:00     NaN\n",
       "2011-01-01 14:15:00     NaN\n",
       "2011-01-01 15:00:00    15.0\n",
       "2011-01-01 15:45:00     NaN\n",
       "2011-01-01 16:30:00     NaN\n",
       "2011-01-01 17:15:00     NaN\n",
       "2011-01-01 18:00:00    18.0\n",
       "2011-01-01 18:45:00     NaN\n",
       "2011-01-01 19:30:00     NaN\n",
       "2011-01-01 20:15:00     NaN\n",
       "2011-01-01 21:00:00    21.0\n",
       "2011-01-01 21:45:00     NaN\n",
       "                       ... \n",
       "2011-01-03 00:45:00     NaN\n",
       "2011-01-03 01:30:00     NaN\n",
       "2011-01-03 02:15:00     NaN\n",
       "2011-01-03 03:00:00    51.0\n",
       "2011-01-03 03:45:00     NaN\n",
       "2011-01-03 04:30:00     NaN\n",
       "2011-01-03 05:15:00     NaN\n",
       "2011-01-03 06:00:00    54.0\n",
       "2011-01-03 06:45:00     NaN\n",
       "2011-01-03 07:30:00     NaN\n",
       "2011-01-03 08:15:00     NaN\n",
       "2011-01-03 09:00:00    57.0\n",
       "2011-01-03 09:45:00     NaN\n",
       "2011-01-03 10:30:00     NaN\n",
       "2011-01-03 11:15:00     NaN\n",
       "2011-01-03 12:00:00    60.0\n",
       "2011-01-03 12:45:00     NaN\n",
       "2011-01-03 13:30:00     NaN\n",
       "2011-01-03 14:15:00     NaN\n",
       "2011-01-03 15:00:00    63.0\n",
       "2011-01-03 15:45:00     NaN\n",
       "2011-01-03 16:30:00     NaN\n",
       "2011-01-03 17:15:00     NaN\n",
       "2011-01-03 18:00:00    66.0\n",
       "2011-01-03 18:45:00     NaN\n",
       "2011-01-03 19:30:00     NaN\n",
       "2011-01-03 20:15:00     NaN\n",
       "2011-01-03 21:00:00    69.0\n",
       "2011-01-03 21:45:00     NaN\n",
       "2011-01-03 22:30:00     NaN\n",
       "Freq: 45T, dtype: float64"
      ]
     },
     "execution_count": 26,
     "metadata": {},
     "output_type": "execute_result"
    }
   ],
   "source": [
    "ts.asfreq('45Min', method=None)"
   ]
  },
  {
   "cell_type": "code",
   "execution_count": null,
   "metadata": {
    "collapsed": false
   },
   "outputs": [],
   "source": [
    "# Might any of these methods have pitfalls from a logical point of view?"
   ]
  },
  {
   "cell_type": "code",
   "execution_count": null,
   "metadata": {
    "collapsed": true
   },
   "outputs": [],
   "source": [
    "# What's the difference between going to a higher frequency and a lower frequency?"
   ]
  },
  {
   "cell_type": "code",
   "execution_count": 27,
   "metadata": {
    "collapsed": false
   },
   "outputs": [
    {
     "data": {
      "text/plain": [
       "2011-01-01 00:00:00     0\n",
       "2011-01-01 01:30:00     2\n",
       "2011-01-01 03:00:00     3\n",
       "2011-01-01 04:30:00     5\n",
       "2011-01-01 06:00:00     6\n",
       "2011-01-01 07:30:00     8\n",
       "2011-01-01 09:00:00     9\n",
       "2011-01-01 10:30:00    11\n",
       "2011-01-01 12:00:00    12\n",
       "2011-01-01 13:30:00    14\n",
       "2011-01-01 15:00:00    15\n",
       "2011-01-01 16:30:00    17\n",
       "2011-01-01 18:00:00    18\n",
       "2011-01-01 19:30:00    20\n",
       "2011-01-01 21:00:00    21\n",
       "2011-01-01 22:30:00    23\n",
       "2011-01-02 00:00:00    24\n",
       "2011-01-02 01:30:00    26\n",
       "2011-01-02 03:00:00    27\n",
       "2011-01-02 04:30:00    29\n",
       "2011-01-02 06:00:00    30\n",
       "2011-01-02 07:30:00    32\n",
       "2011-01-02 09:00:00    33\n",
       "2011-01-02 10:30:00    35\n",
       "2011-01-02 12:00:00    36\n",
       "2011-01-02 13:30:00    38\n",
       "2011-01-02 15:00:00    39\n",
       "2011-01-02 16:30:00    41\n",
       "2011-01-02 18:00:00    42\n",
       "2011-01-02 19:30:00    44\n",
       "2011-01-02 21:00:00    45\n",
       "2011-01-02 22:30:00    47\n",
       "2011-01-03 00:00:00    48\n",
       "2011-01-03 01:30:00    50\n",
       "2011-01-03 03:00:00    51\n",
       "2011-01-03 04:30:00    53\n",
       "2011-01-03 06:00:00    54\n",
       "2011-01-03 07:30:00    56\n",
       "2011-01-03 09:00:00    57\n",
       "2011-01-03 10:30:00    59\n",
       "2011-01-03 12:00:00    60\n",
       "2011-01-03 13:30:00    62\n",
       "2011-01-03 15:00:00    63\n",
       "2011-01-03 16:30:00    65\n",
       "2011-01-03 18:00:00    66\n",
       "2011-01-03 19:30:00    68\n",
       "2011-01-03 21:00:00    69\n",
       "2011-01-03 22:30:00    71\n",
       "Freq: 90T, dtype: int64"
      ]
     },
     "execution_count": 27,
     "metadata": {},
     "output_type": "execute_result"
    }
   ],
   "source": [
    "converted = ts.asfreq('90Min', method = 'bfill')\n",
    "converted"
   ]
  },
  {
   "cell_type": "code",
   "execution_count": null,
   "metadata": {
    "collapsed": true
   },
   "outputs": [],
   "source": [
    "# What's different logically about going to a higher frequency vs a lower frequency? \n",
    "# What do you want to do when switching to a lower freqeuncy that is not logical when switching to a higher frequency?"
   ]
  },
  {
   "cell_type": "code",
   "execution_count": 29,
   "metadata": {
    "collapsed": false
   },
   "outputs": [
    {
     "data": {
      "text/plain": [
       "2011-01-01     276\n",
       "2011-01-02     852\n",
       "2011-01-03    1428\n",
       "Freq: D, dtype: int64"
      ]
     },
     "execution_count": 29,
     "metadata": {},
     "output_type": "execute_result"
    }
   ],
   "source": [
    "ts.resample('D').sum()"
   ]
  },
  {
   "cell_type": "code",
   "execution_count": 28,
   "metadata": {
    "collapsed": false
   },
   "outputs": [
    {
     "data": {
      "text/plain": [
       "2011-01-01 01:00:00    1\n",
       "2011-01-01 02:00:00    2\n",
       "2011-01-01 03:00:00    3\n",
       "2011-01-01 04:00:00    4\n",
       "2011-01-01 05:00:00    5\n",
       "2011-01-01 06:00:00    6\n",
       "2011-01-01 07:00:00    7\n",
       "2011-01-01 08:00:00    8\n",
       "2011-01-01 09:00:00    9\n",
       "Freq: H, dtype: int64"
      ]
     },
     "execution_count": 28,
     "metadata": {},
     "output_type": "execute_result"
    }
   ],
   "source": [
    "ts[1:10]"
   ]
  },
  {
   "cell_type": "code",
   "execution_count": 30,
   "metadata": {
    "collapsed": false
   },
   "outputs": [
    {
     "data": {
      "text/plain": [
       "2011-01-01 02:00:00     2.5\n",
       "2011-01-01 04:00:00     4.5\n",
       "2011-01-01 06:00:00     6.5\n",
       "2011-01-01 08:00:00     8.5\n",
       "2011-01-01 10:00:00    10.5\n",
       "2011-01-01 12:00:00    12.5\n",
       "2011-01-01 14:00:00    14.5\n",
       "2011-01-01 16:00:00    16.5\n",
       "2011-01-01 18:00:00    18.5\n",
       "Freq: 2H, dtype: float64"
      ]
     },
     "execution_count": 30,
     "metadata": {},
     "output_type": "execute_result"
    }
   ],
   "source": [
    "ts.resample('2H').mean()[1:10]"
   ]
  },
  {
   "cell_type": "code",
   "execution_count": 31,
   "metadata": {
    "collapsed": false
   },
   "outputs": [
    {
     "data": {
      "text/plain": [
       "2011-01-01 00:00:00    0\n",
       "2011-01-01 01:00:00    1\n",
       "2011-01-01 02:00:00    2\n",
       "2011-01-01 03:00:00    3\n",
       "2011-01-01 04:00:00    4\n",
       "Freq: H, dtype: int64"
      ]
     },
     "execution_count": 31,
     "metadata": {},
     "output_type": "execute_result"
    }
   ],
   "source": [
    "ts.head()"
   ]
  },
  {
   "cell_type": "code",
   "execution_count": null,
   "metadata": {
    "collapsed": true
   },
   "outputs": [],
   "source": [
    "# What if you want to downsample and you don't want to ffill or bfill? -Use None or just dont put method"
   ]
  },
  {
   "cell_type": "code",
   "execution_count": null,
   "metadata": {
    "collapsed": true
   },
   "outputs": [],
   "source": [
    "# What is the difference between .resample() and .asfreq()? - You can do more with resampling than asfreq"
   ]
  },
  {
   "cell_type": "code",
   "execution_count": null,
   "metadata": {
    "collapsed": true
   },
   "outputs": [],
   "source": [
    "# What are some special things you can do with .resample() you can't do with .asfreq()?\n"
   ]
  },
  {
   "cell_type": "code",
   "execution_count": 38,
   "metadata": {
    "collapsed": false
   },
   "outputs": [
    {
     "data": {
      "text/plain": [
       "2011-01-03 02:00:00    50\n",
       "2011-01-02 00:00:00    24\n",
       "2011-01-02 14:00:00    38\n",
       "2011-01-03 08:00:00    56\n",
       "2011-01-02 03:00:00    27\n",
       "2011-01-03 19:00:00    67\n",
       "2011-01-03 21:00:00    69\n",
       "2011-01-01 21:00:00    21\n",
       "2011-01-02 13:00:00    37\n",
       "2011-01-01 06:00:00     6\n",
       "dtype: int64"
      ]
     },
     "execution_count": 38,
     "metadata": {},
     "output_type": "execute_result"
    }
   ],
   "source": [
    "irreg_ts=ts[list(np.random.choice(a=list(range(len(ts))), size=10, replace=False))]\n",
    "irreg_ts"
   ]
  },
  {
   "cell_type": "code",
   "execution_count": 39,
   "metadata": {
    "collapsed": false
   },
   "outputs": [
    {
     "data": {
      "text/plain": [
       "Series([], Freq: D, dtype: int64)"
      ]
     },
     "execution_count": 39,
     "metadata": {},
     "output_type": "execute_result"
    }
   ],
   "source": [
    "irreg_ts.asfreq('D')   # won't give anything because date not in order"
   ]
  },
  {
   "cell_type": "code",
   "execution_count": 40,
   "metadata": {
    "collapsed": false
   },
   "outputs": [
    {
     "data": {
      "text/plain": [
       "2011-01-01 06:00:00    6.0\n",
       "2011-01-02 06:00:00    NaN\n",
       "2011-01-03 06:00:00    NaN\n",
       "Freq: D, dtype: float64"
      ]
     },
     "execution_count": 40,
     "metadata": {},
     "output_type": "execute_result"
    }
   ],
   "source": [
    "irreg_ts.sort_index().asfreq('D')"
   ]
  },
  {
   "cell_type": "code",
   "execution_count": 41,
   "metadata": {
    "collapsed": false
   },
   "outputs": [
    {
     "data": {
      "text/plain": [
       "2011-01-01    2\n",
       "2011-01-02    4\n",
       "2011-01-03    4\n",
       "Freq: D, dtype: int64"
      ]
     },
     "execution_count": 41,
     "metadata": {},
     "output_type": "execute_result"
    }
   ],
   "source": [
    "irreg_ts.resample('D').count()"
   ]
  },
  {
   "cell_type": "code",
   "execution_count": 42,
   "metadata": {
    "collapsed": false
   },
   "outputs": [
    {
     "data": {
      "text/plain": [
       "2011-01-03 02:00:00    50\n",
       "2011-01-02 00:00:00    24\n",
       "2011-01-02 14:00:00    38\n",
       "2011-01-03 08:00:00    56\n",
       "2011-01-02 03:00:00    27\n",
       "2011-01-03 19:00:00    67\n",
       "2011-01-03 21:00:00    69\n",
       "2011-01-01 21:00:00    21\n",
       "2011-01-02 13:00:00    37\n",
       "2011-01-01 06:00:00     6\n",
       "dtype: int64"
      ]
     },
     "execution_count": 42,
     "metadata": {},
     "output_type": "execute_result"
    }
   ],
   "source": [
    "irreg_ts.fillna(limit=5, method='ffill')"
   ]
  },
  {
   "cell_type": "code",
   "execution_count": 43,
   "metadata": {
    "collapsed": true
   },
   "outputs": [],
   "source": [
    "irreg_ts=ts[list(np.random.choice(a=list(range(len(ts))), size=10, replace=False))]\n",
    "irreg_ts=irreg_ts.sort_index()"
   ]
  },
  {
   "cell_type": "code",
   "execution_count": 44,
   "metadata": {
    "collapsed": false
   },
   "outputs": [
    {
     "data": {
      "text/plain": [
       "2011-01-01 05:00:00     5.0\n",
       "2011-01-01 06:00:00     5.0\n",
       "2011-01-01 07:00:00     5.0\n",
       "2011-01-01 08:00:00     5.0\n",
       "2011-01-01 09:00:00     5.0\n",
       "2011-01-01 10:00:00     5.0\n",
       "2011-01-01 11:00:00     NaN\n",
       "2011-01-01 12:00:00     NaN\n",
       "2011-01-01 13:00:00     NaN\n",
       "2011-01-01 14:00:00    14.0\n",
       "2011-01-01 15:00:00    14.0\n",
       "2011-01-01 16:00:00    14.0\n",
       "2011-01-01 17:00:00    14.0\n",
       "2011-01-01 18:00:00    14.0\n",
       "2011-01-01 19:00:00    14.0\n",
       "2011-01-01 20:00:00     NaN\n",
       "2011-01-01 21:00:00     NaN\n",
       "2011-01-01 22:00:00     NaN\n",
       "2011-01-01 23:00:00     NaN\n",
       "2011-01-02 00:00:00     NaN\n",
       "2011-01-02 01:00:00     NaN\n",
       "2011-01-02 02:00:00     NaN\n",
       "2011-01-02 03:00:00     NaN\n",
       "2011-01-02 04:00:00     NaN\n",
       "2011-01-02 05:00:00     NaN\n",
       "2011-01-02 06:00:00    30.0\n",
       "2011-01-02 07:00:00    30.0\n",
       "2011-01-02 08:00:00    32.0\n",
       "2011-01-02 09:00:00    32.0\n",
       "2011-01-02 10:00:00    32.0\n",
       "                       ... \n",
       "2011-01-02 18:00:00    40.0\n",
       "2011-01-02 19:00:00    40.0\n",
       "2011-01-02 20:00:00    40.0\n",
       "2011-01-02 21:00:00    45.0\n",
       "2011-01-02 22:00:00    45.0\n",
       "2011-01-02 23:00:00    45.0\n",
       "2011-01-03 00:00:00    45.0\n",
       "2011-01-03 01:00:00    45.0\n",
       "2011-01-03 02:00:00    45.0\n",
       "2011-01-03 03:00:00     NaN\n",
       "2011-01-03 04:00:00     NaN\n",
       "2011-01-03 05:00:00     NaN\n",
       "2011-01-03 06:00:00    54.0\n",
       "2011-01-03 07:00:00    54.0\n",
       "2011-01-03 08:00:00    54.0\n",
       "2011-01-03 09:00:00    54.0\n",
       "2011-01-03 10:00:00    54.0\n",
       "2011-01-03 11:00:00    54.0\n",
       "2011-01-03 12:00:00     NaN\n",
       "2011-01-03 13:00:00    61.0\n",
       "2011-01-03 14:00:00    61.0\n",
       "2011-01-03 15:00:00    61.0\n",
       "2011-01-03 16:00:00    61.0\n",
       "2011-01-03 17:00:00    61.0\n",
       "2011-01-03 18:00:00    61.0\n",
       "2011-01-03 19:00:00    67.0\n",
       "2011-01-03 20:00:00    67.0\n",
       "2011-01-03 21:00:00    67.0\n",
       "2011-01-03 22:00:00    67.0\n",
       "2011-01-03 23:00:00    71.0\n",
       "Freq: H, dtype: float64"
      ]
     },
     "execution_count": 44,
     "metadata": {},
     "output_type": "execute_result"
    }
   ],
   "source": [
    "irreg_ts.resample('H').fillna(method='ffill', limit=5)"
   ]
  },
  {
   "cell_type": "code",
   "execution_count": 46,
   "metadata": {
    "collapsed": false
   },
   "outputs": [
    {
     "data": {
      "text/plain": [
       "2011-01-01 05:00:00     5.0\n",
       "2011-01-01 06:00:00     NaN\n",
       "2011-01-01 07:00:00     NaN\n",
       "2011-01-01 08:00:00     NaN\n",
       "2011-01-01 09:00:00     NaN\n",
       "2011-01-01 10:00:00     NaN\n",
       "2011-01-01 11:00:00     NaN\n",
       "2011-01-01 12:00:00     NaN\n",
       "2011-01-01 13:00:00     NaN\n",
       "2011-01-01 14:00:00    14.0\n",
       "2011-01-01 15:00:00     NaN\n",
       "2011-01-01 16:00:00     NaN\n",
       "2011-01-01 17:00:00     NaN\n",
       "2011-01-01 18:00:00     NaN\n",
       "2011-01-01 19:00:00     NaN\n",
       "2011-01-01 20:00:00     NaN\n",
       "2011-01-01 21:00:00     NaN\n",
       "2011-01-01 22:00:00     NaN\n",
       "2011-01-01 23:00:00     NaN\n",
       "2011-01-02 00:00:00     NaN\n",
       "2011-01-02 01:00:00     NaN\n",
       "2011-01-02 02:00:00     NaN\n",
       "2011-01-02 03:00:00     NaN\n",
       "2011-01-02 04:00:00     NaN\n",
       "2011-01-02 05:00:00     NaN\n",
       "2011-01-02 06:00:00    30.0\n",
       "2011-01-02 07:00:00     NaN\n",
       "2011-01-02 08:00:00    32.0\n",
       "2011-01-02 09:00:00     NaN\n",
       "2011-01-02 10:00:00     NaN\n",
       "                       ... \n",
       "2011-01-02 18:00:00     NaN\n",
       "2011-01-02 19:00:00     NaN\n",
       "2011-01-02 20:00:00     NaN\n",
       "2011-01-02 21:00:00    45.0\n",
       "2011-01-02 22:00:00     NaN\n",
       "2011-01-02 23:00:00     NaN\n",
       "2011-01-03 00:00:00     NaN\n",
       "2011-01-03 01:00:00     NaN\n",
       "2011-01-03 02:00:00     NaN\n",
       "2011-01-03 03:00:00     NaN\n",
       "2011-01-03 04:00:00     NaN\n",
       "2011-01-03 05:00:00     NaN\n",
       "2011-01-03 06:00:00    54.0\n",
       "2011-01-03 07:00:00     NaN\n",
       "2011-01-03 08:00:00     NaN\n",
       "2011-01-03 09:00:00     NaN\n",
       "2011-01-03 10:00:00     NaN\n",
       "2011-01-03 11:00:00     NaN\n",
       "2011-01-03 12:00:00     NaN\n",
       "2011-01-03 13:00:00    61.0\n",
       "2011-01-03 14:00:00     NaN\n",
       "2011-01-03 15:00:00     NaN\n",
       "2011-01-03 16:00:00     NaN\n",
       "2011-01-03 17:00:00     NaN\n",
       "2011-01-03 18:00:00     NaN\n",
       "2011-01-03 19:00:00    67.0\n",
       "2011-01-03 20:00:00     NaN\n",
       "2011-01-03 21:00:00     NaN\n",
       "2011-01-03 22:00:00     NaN\n",
       "2011-01-03 23:00:00    71.0\n",
       "Freq: H, dtype: float64"
      ]
     },
     "execution_count": 46,
     "metadata": {},
     "output_type": "execute_result"
    }
   ],
   "source": [
    "irreg_ts.resample('H').mean() #.count(), .var()"
   ]
  },
  {
   "cell_type": "code",
   "execution_count": null,
   "metadata": {
    "collapsed": true
   },
   "outputs": [],
   "source": []
  }
 ],
 "metadata": {
  "kernelspec": {
   "display_name": "Python 3",
   "language": "python",
   "name": "python3"
  },
  "language_info": {
   "codemirror_mode": {
    "name": "ipython",
    "version": 3
   },
   "file_extension": ".py",
   "mimetype": "text/x-python",
   "name": "python",
   "nbconvert_exporter": "python",
   "pygments_lexer": "ipython3",
   "version": "3.6.0"
  }
 },
 "nbformat": 4,
 "nbformat_minor": 0
}
